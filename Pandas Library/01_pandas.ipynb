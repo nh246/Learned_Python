{
 "cells": [
  {
   "cell_type": "markdown",
   "id": "4f511783",
   "metadata": {},
   "source": [
    "# Pandas (Day-1)"
   ]
  },
  {
   "cell_type": "code",
   "execution_count": null,
   "id": "c568cd78",
   "metadata": {},
   "outputs": [],
   "source": [
    "# importing necessary libraries\n",
    "import pandas as pd"
   ]
  },
  {
   "cell_type": "code",
   "execution_count": 3,
   "id": "d4253ac4",
   "metadata": {},
   "outputs": [
    {
     "data": {
      "text/plain": [
       "'2.2.3'"
      ]
     },
     "execution_count": 3,
     "metadata": {},
     "output_type": "execute_result"
    }
   ],
   "source": [
    "pd.__version__"
   ]
  },
  {
   "cell_type": "code",
   "execution_count": 5,
   "id": "c6cecdb8",
   "metadata": {},
   "outputs": [],
   "source": [
    "# read data\n",
    "\n",
    "df = pd.read_csv('./data/popdata.csv')"
   ]
  },
  {
   "cell_type": "code",
   "execution_count": 6,
   "id": "53b4c674",
   "metadata": {},
   "outputs": [],
   "source": [
    "# write data \n",
    "df.to_excel('./data/popdata.xlsx')"
   ]
  },
  {
   "cell_type": "code",
   "execution_count": 7,
   "id": "050842aa",
   "metadata": {},
   "outputs": [],
   "source": [
    "# reading the exel file\n",
    "\n",
    "df_xl =pd.read_excel('./data/popdata.xlsx')"
   ]
  },
  {
   "cell_type": "markdown",
   "id": "6c7de8c8",
   "metadata": {},
   "source": [
    "# Pandas Tips"
   ]
  },
  {
   "cell_type": "code",
   "execution_count": 8,
   "id": "4198c47d",
   "metadata": {},
   "outputs": [
    {
     "name": "stdout",
     "output_type": "stream",
     "text": [
      "    Date(Year)  Population  Annual % Change        Name Area A (km²)  \\\n",
      "0         1950    39728535              NaN     Barguna        1,831   \n",
      "1         1951    40548590             2.06     Barisal        2,785   \n",
      "2         1952    41426885             2.17       Bhola        3,403   \n",
      "3         1953    42329279             2.18   Jhalakati          707   \n",
      "4         1954    43282032             2.25  Patuakhali        3,221   \n",
      "..         ...         ...              ...         ...          ...   \n",
      "68        2018   163683958             1.17         NaN          NaN   \n",
      "69        2019   165516222             1.12         NaN          NaN   \n",
      "70        2020   167420951             1.15         NaN          NaN   \n",
      "71        2021   169356251             1.16         NaN          NaN   \n",
      "72        2022   171186372             1.08         NaN          NaN   \n",
      "\n",
      "    Census_1991 Census_2001  Census_2011  Census _2022  \n",
      "0       775,693     848,554      892,781     1,010,530  \n",
      "1     2,207,426   2,355,967    2,324,310     2,570,450  \n",
      "2     1,476,328   1,703,117    1,776,795     1,932,514  \n",
      "3       666,139     694,231      682,669       661,161  \n",
      "4     1,273,872   1,460,781    1,535,854     1,727,254  \n",
      "..          ...         ...          ...           ...  \n",
      "68          NaN         NaN          NaN           NaN  \n",
      "69          NaN         NaN          NaN           NaN  \n",
      "70          NaN         NaN          NaN           NaN  \n",
      "71          NaN         NaN          NaN           NaN  \n",
      "72          NaN         NaN          NaN           NaN  \n",
      "\n",
      "[73 rows x 9 columns]\n"
     ]
    }
   ],
   "source": [
    "# print the variables or data in terminal\n",
    "\n",
    "print(df)"
   ]
  },
  {
   "cell_type": "code",
   "execution_count": 9,
   "id": "7c41ec6c",
   "metadata": {},
   "outputs": [
    {
     "name": "stdout",
     "output_type": "stream",
     "text": [
      "<class 'pandas.core.frame.DataFrame'>\n",
      "RangeIndex: 73 entries, 0 to 72\n",
      "Data columns (total 9 columns):\n",
      " #   Column           Non-Null Count  Dtype  \n",
      "---  ------           --------------  -----  \n",
      " 0   Date(Year)       73 non-null     int64  \n",
      " 1   Population       73 non-null     int64  \n",
      " 2   Annual % Change  72 non-null     float64\n",
      " 3   Name             64 non-null     object \n",
      " 4   Area A (km²)     64 non-null     object \n",
      " 5    Census_1991     64 non-null     object \n",
      " 6   Census_2001      64 non-null     object \n",
      " 7    Census_2011     64 non-null     object \n",
      " 8    Census _2022    64 non-null     object \n",
      "dtypes: float64(1), int64(2), object(6)\n",
      "memory usage: 5.3+ KB\n"
     ]
    }
   ],
   "source": [
    "# How the data looks like\n",
    "\n",
    "df.info()"
   ]
  },
  {
   "cell_type": "code",
   "execution_count": 10,
   "id": "4856c583",
   "metadata": {},
   "outputs": [
    {
     "data": {
      "application/vnd.microsoft.datawrangler.viewer.v0+json": {
       "columns": [
        {
         "name": "index",
         "rawType": "int64",
         "type": "integer"
        },
        {
         "name": "Date(Year)",
         "rawType": "int64",
         "type": "integer"
        },
        {
         "name": "Population",
         "rawType": "int64",
         "type": "integer"
        },
        {
         "name": "Annual % Change",
         "rawType": "float64",
         "type": "float"
        },
        {
         "name": "Name",
         "rawType": "object",
         "type": "string"
        },
        {
         "name": "Area A (km²)",
         "rawType": "object",
         "type": "string"
        },
        {
         "name": " Census_1991",
         "rawType": "object",
         "type": "string"
        },
        {
         "name": "Census_2001",
         "rawType": "object",
         "type": "string"
        },
        {
         "name": " Census_2011",
         "rawType": "object",
         "type": "string"
        },
        {
         "name": " Census _2022",
         "rawType": "object",
         "type": "string"
        }
       ],
       "conversionMethod": "pd.DataFrame",
       "ref": "0320830a-4c84-49c5-b161-9210a0b2fcc1",
       "rows": [
        [
         "0",
         "1950",
         "39728535",
         null,
         "Barguna",
         "1,831",
         "775,693",
         "848,554",
         "892,781",
         "1,010,530"
        ],
        [
         "1",
         "1951",
         "40548590",
         "2.06",
         "Barisal",
         "2,785",
         "2,207,426",
         "2,355,967",
         "2,324,310",
         "2,570,450"
        ],
        [
         "2",
         "1952",
         "41426885",
         "2.17",
         "Bhola",
         "3,403",
         "1,476,328",
         "1,703,117",
         "1,776,795",
         "1,932,514"
        ],
        [
         "3",
         "1953",
         "42329279",
         "2.18",
         "Jhalakati",
         "707",
         "666,139",
         "694,231",
         "682,669",
         "661,161"
        ],
        [
         "4",
         "1954",
         "43282032",
         "2.25",
         "Patuakhali",
         "3,221",
         "1,273,872",
         "1,460,781",
         "1,535,854",
         "1,727,254"
        ]
       ],
       "shape": {
        "columns": 9,
        "rows": 5
       }
      },
      "text/html": [
       "<div>\n",
       "<style scoped>\n",
       "    .dataframe tbody tr th:only-of-type {\n",
       "        vertical-align: middle;\n",
       "    }\n",
       "\n",
       "    .dataframe tbody tr th {\n",
       "        vertical-align: top;\n",
       "    }\n",
       "\n",
       "    .dataframe thead th {\n",
       "        text-align: right;\n",
       "    }\n",
       "</style>\n",
       "<table border=\"1\" class=\"dataframe\">\n",
       "  <thead>\n",
       "    <tr style=\"text-align: right;\">\n",
       "      <th></th>\n",
       "      <th>Date(Year)</th>\n",
       "      <th>Population</th>\n",
       "      <th>Annual % Change</th>\n",
       "      <th>Name</th>\n",
       "      <th>Area A (km²)</th>\n",
       "      <th>Census_1991</th>\n",
       "      <th>Census_2001</th>\n",
       "      <th>Census_2011</th>\n",
       "      <th>Census _2022</th>\n",
       "    </tr>\n",
       "  </thead>\n",
       "  <tbody>\n",
       "    <tr>\n",
       "      <th>0</th>\n",
       "      <td>1950</td>\n",
       "      <td>39728535</td>\n",
       "      <td>NaN</td>\n",
       "      <td>Barguna</td>\n",
       "      <td>1,831</td>\n",
       "      <td>775,693</td>\n",
       "      <td>848,554</td>\n",
       "      <td>892,781</td>\n",
       "      <td>1,010,530</td>\n",
       "    </tr>\n",
       "    <tr>\n",
       "      <th>1</th>\n",
       "      <td>1951</td>\n",
       "      <td>40548590</td>\n",
       "      <td>2.06</td>\n",
       "      <td>Barisal</td>\n",
       "      <td>2,785</td>\n",
       "      <td>2,207,426</td>\n",
       "      <td>2,355,967</td>\n",
       "      <td>2,324,310</td>\n",
       "      <td>2,570,450</td>\n",
       "    </tr>\n",
       "    <tr>\n",
       "      <th>2</th>\n",
       "      <td>1952</td>\n",
       "      <td>41426885</td>\n",
       "      <td>2.17</td>\n",
       "      <td>Bhola</td>\n",
       "      <td>3,403</td>\n",
       "      <td>1,476,328</td>\n",
       "      <td>1,703,117</td>\n",
       "      <td>1,776,795</td>\n",
       "      <td>1,932,514</td>\n",
       "    </tr>\n",
       "    <tr>\n",
       "      <th>3</th>\n",
       "      <td>1953</td>\n",
       "      <td>42329279</td>\n",
       "      <td>2.18</td>\n",
       "      <td>Jhalakati</td>\n",
       "      <td>707</td>\n",
       "      <td>666,139</td>\n",
       "      <td>694,231</td>\n",
       "      <td>682,669</td>\n",
       "      <td>661,161</td>\n",
       "    </tr>\n",
       "    <tr>\n",
       "      <th>4</th>\n",
       "      <td>1954</td>\n",
       "      <td>43282032</td>\n",
       "      <td>2.25</td>\n",
       "      <td>Patuakhali</td>\n",
       "      <td>3,221</td>\n",
       "      <td>1,273,872</td>\n",
       "      <td>1,460,781</td>\n",
       "      <td>1,535,854</td>\n",
       "      <td>1,727,254</td>\n",
       "    </tr>\n",
       "  </tbody>\n",
       "</table>\n",
       "</div>"
      ],
      "text/plain": [
       "   Date(Year)  Population  Annual % Change        Name Area A (km²)  \\\n",
       "0        1950    39728535              NaN     Barguna        1,831   \n",
       "1        1951    40548590             2.06     Barisal        2,785   \n",
       "2        1952    41426885             2.17       Bhola        3,403   \n",
       "3        1953    42329279             2.18   Jhalakati          707   \n",
       "4        1954    43282032             2.25  Patuakhali        3,221   \n",
       "\n",
       "   Census_1991 Census_2001  Census_2011  Census _2022  \n",
       "0      775,693     848,554      892,781     1,010,530  \n",
       "1    2,207,426   2,355,967    2,324,310     2,570,450  \n",
       "2    1,476,328   1,703,117    1,776,795     1,932,514  \n",
       "3      666,139     694,231      682,669       661,161  \n",
       "4    1,273,872   1,460,781    1,535,854     1,727,254  "
      ]
     },
     "execution_count": 10,
     "metadata": {},
     "output_type": "execute_result"
    }
   ],
   "source": [
    "df.head()"
   ]
  },
  {
   "cell_type": "code",
   "execution_count": 11,
   "id": "79ae5c2c",
   "metadata": {},
   "outputs": [
    {
     "data": {
      "application/vnd.microsoft.datawrangler.viewer.v0+json": {
       "columns": [
        {
         "name": "index",
         "rawType": "int64",
         "type": "integer"
        },
        {
         "name": "Date(Year)",
         "rawType": "int64",
         "type": "integer"
        },
        {
         "name": "Population",
         "rawType": "int64",
         "type": "integer"
        },
        {
         "name": "Annual % Change",
         "rawType": "float64",
         "type": "float"
        },
        {
         "name": "Name",
         "rawType": "object",
         "type": "unknown"
        },
        {
         "name": "Area A (km²)",
         "rawType": "object",
         "type": "unknown"
        },
        {
         "name": " Census_1991",
         "rawType": "object",
         "type": "unknown"
        },
        {
         "name": "Census_2001",
         "rawType": "object",
         "type": "unknown"
        },
        {
         "name": " Census_2011",
         "rawType": "object",
         "type": "unknown"
        },
        {
         "name": " Census _2022",
         "rawType": "object",
         "type": "unknown"
        }
       ],
       "conversionMethod": "pd.DataFrame",
       "ref": "52a0d800-d8b9-4e22-b05c-9d8d0bac7e47",
       "rows": [
        [
         "68",
         "2018",
         "163683958",
         "1.17",
         null,
         null,
         null,
         null,
         null,
         null
        ],
        [
         "69",
         "2019",
         "165516222",
         "1.12",
         null,
         null,
         null,
         null,
         null,
         null
        ],
        [
         "70",
         "2020",
         "167420951",
         "1.15",
         null,
         null,
         null,
         null,
         null,
         null
        ],
        [
         "71",
         "2021",
         "169356251",
         "1.16",
         null,
         null,
         null,
         null,
         null,
         null
        ],
        [
         "72",
         "2022",
         "171186372",
         "1.08",
         null,
         null,
         null,
         null,
         null,
         null
        ]
       ],
       "shape": {
        "columns": 9,
        "rows": 5
       }
      },
      "text/html": [
       "<div>\n",
       "<style scoped>\n",
       "    .dataframe tbody tr th:only-of-type {\n",
       "        vertical-align: middle;\n",
       "    }\n",
       "\n",
       "    .dataframe tbody tr th {\n",
       "        vertical-align: top;\n",
       "    }\n",
       "\n",
       "    .dataframe thead th {\n",
       "        text-align: right;\n",
       "    }\n",
       "</style>\n",
       "<table border=\"1\" class=\"dataframe\">\n",
       "  <thead>\n",
       "    <tr style=\"text-align: right;\">\n",
       "      <th></th>\n",
       "      <th>Date(Year)</th>\n",
       "      <th>Population</th>\n",
       "      <th>Annual % Change</th>\n",
       "      <th>Name</th>\n",
       "      <th>Area A (km²)</th>\n",
       "      <th>Census_1991</th>\n",
       "      <th>Census_2001</th>\n",
       "      <th>Census_2011</th>\n",
       "      <th>Census _2022</th>\n",
       "    </tr>\n",
       "  </thead>\n",
       "  <tbody>\n",
       "    <tr>\n",
       "      <th>68</th>\n",
       "      <td>2018</td>\n",
       "      <td>163683958</td>\n",
       "      <td>1.17</td>\n",
       "      <td>NaN</td>\n",
       "      <td>NaN</td>\n",
       "      <td>NaN</td>\n",
       "      <td>NaN</td>\n",
       "      <td>NaN</td>\n",
       "      <td>NaN</td>\n",
       "    </tr>\n",
       "    <tr>\n",
       "      <th>69</th>\n",
       "      <td>2019</td>\n",
       "      <td>165516222</td>\n",
       "      <td>1.12</td>\n",
       "      <td>NaN</td>\n",
       "      <td>NaN</td>\n",
       "      <td>NaN</td>\n",
       "      <td>NaN</td>\n",
       "      <td>NaN</td>\n",
       "      <td>NaN</td>\n",
       "    </tr>\n",
       "    <tr>\n",
       "      <th>70</th>\n",
       "      <td>2020</td>\n",
       "      <td>167420951</td>\n",
       "      <td>1.15</td>\n",
       "      <td>NaN</td>\n",
       "      <td>NaN</td>\n",
       "      <td>NaN</td>\n",
       "      <td>NaN</td>\n",
       "      <td>NaN</td>\n",
       "      <td>NaN</td>\n",
       "    </tr>\n",
       "    <tr>\n",
       "      <th>71</th>\n",
       "      <td>2021</td>\n",
       "      <td>169356251</td>\n",
       "      <td>1.16</td>\n",
       "      <td>NaN</td>\n",
       "      <td>NaN</td>\n",
       "      <td>NaN</td>\n",
       "      <td>NaN</td>\n",
       "      <td>NaN</td>\n",
       "      <td>NaN</td>\n",
       "    </tr>\n",
       "    <tr>\n",
       "      <th>72</th>\n",
       "      <td>2022</td>\n",
       "      <td>171186372</td>\n",
       "      <td>1.08</td>\n",
       "      <td>NaN</td>\n",
       "      <td>NaN</td>\n",
       "      <td>NaN</td>\n",
       "      <td>NaN</td>\n",
       "      <td>NaN</td>\n",
       "      <td>NaN</td>\n",
       "    </tr>\n",
       "  </tbody>\n",
       "</table>\n",
       "</div>"
      ],
      "text/plain": [
       "    Date(Year)  Population  Annual % Change Name Area A (km²)  Census_1991  \\\n",
       "68        2018   163683958             1.17  NaN          NaN          NaN   \n",
       "69        2019   165516222             1.12  NaN          NaN          NaN   \n",
       "70        2020   167420951             1.15  NaN          NaN          NaN   \n",
       "71        2021   169356251             1.16  NaN          NaN          NaN   \n",
       "72        2022   171186372             1.08  NaN          NaN          NaN   \n",
       "\n",
       "   Census_2001  Census_2011  Census _2022  \n",
       "68         NaN          NaN           NaN  \n",
       "69         NaN          NaN           NaN  \n",
       "70         NaN          NaN           NaN  \n",
       "71         NaN          NaN           NaN  \n",
       "72         NaN          NaN           NaN  "
      ]
     },
     "execution_count": 11,
     "metadata": {},
     "output_type": "execute_result"
    }
   ],
   "source": [
    "df.tail()"
   ]
  },
  {
   "cell_type": "code",
   "execution_count": 12,
   "id": "888ca371",
   "metadata": {},
   "outputs": [
    {
     "data": {
      "application/vnd.microsoft.datawrangler.viewer.v0+json": {
       "columns": [
        {
         "name": "index",
         "rawType": "object",
         "type": "string"
        },
        {
         "name": "Date(Year)",
         "rawType": "float64",
         "type": "float"
        },
        {
         "name": "Population",
         "rawType": "float64",
         "type": "float"
        },
        {
         "name": "Annual % Change",
         "rawType": "float64",
         "type": "float"
        }
       ],
       "conversionMethod": "pd.DataFrame",
       "ref": "ab4ea8d9-d286-4132-89b4-6d3d852f2a09",
       "rows": [
        [
         "count",
         "73.0",
         "73.0",
         "72.0"
        ],
        [
         "mean",
         "1986.0",
         "100542093.36986302",
         "2.0516666666666667"
        ],
        [
         "std",
         "21.217131442932306",
         "41331601.87121657",
         "0.6492379064371777"
        ],
        [
         "min",
         "1950.0",
         "39728535.0",
         "0.88"
        ],
        [
         "25%",
         "1968.0",
         "63995652.0",
         "1.385"
        ],
        [
         "50%",
         "1986.0",
         "98271746.0",
         "2.15"
        ],
        [
         "75%",
         "2004.0",
         "138789725.0",
         "2.54"
        ],
        [
         "max",
         "2022.0",
         "171186372.0",
         "3.05"
        ]
       ],
       "shape": {
        "columns": 3,
        "rows": 8
       }
      },
      "text/html": [
       "<div>\n",
       "<style scoped>\n",
       "    .dataframe tbody tr th:only-of-type {\n",
       "        vertical-align: middle;\n",
       "    }\n",
       "\n",
       "    .dataframe tbody tr th {\n",
       "        vertical-align: top;\n",
       "    }\n",
       "\n",
       "    .dataframe thead th {\n",
       "        text-align: right;\n",
       "    }\n",
       "</style>\n",
       "<table border=\"1\" class=\"dataframe\">\n",
       "  <thead>\n",
       "    <tr style=\"text-align: right;\">\n",
       "      <th></th>\n",
       "      <th>Date(Year)</th>\n",
       "      <th>Population</th>\n",
       "      <th>Annual % Change</th>\n",
       "    </tr>\n",
       "  </thead>\n",
       "  <tbody>\n",
       "    <tr>\n",
       "      <th>count</th>\n",
       "      <td>73.000000</td>\n",
       "      <td>7.300000e+01</td>\n",
       "      <td>72.000000</td>\n",
       "    </tr>\n",
       "    <tr>\n",
       "      <th>mean</th>\n",
       "      <td>1986.000000</td>\n",
       "      <td>1.005421e+08</td>\n",
       "      <td>2.051667</td>\n",
       "    </tr>\n",
       "    <tr>\n",
       "      <th>std</th>\n",
       "      <td>21.217131</td>\n",
       "      <td>4.133160e+07</td>\n",
       "      <td>0.649238</td>\n",
       "    </tr>\n",
       "    <tr>\n",
       "      <th>min</th>\n",
       "      <td>1950.000000</td>\n",
       "      <td>3.972854e+07</td>\n",
       "      <td>0.880000</td>\n",
       "    </tr>\n",
       "    <tr>\n",
       "      <th>25%</th>\n",
       "      <td>1968.000000</td>\n",
       "      <td>6.399565e+07</td>\n",
       "      <td>1.385000</td>\n",
       "    </tr>\n",
       "    <tr>\n",
       "      <th>50%</th>\n",
       "      <td>1986.000000</td>\n",
       "      <td>9.827175e+07</td>\n",
       "      <td>2.150000</td>\n",
       "    </tr>\n",
       "    <tr>\n",
       "      <th>75%</th>\n",
       "      <td>2004.000000</td>\n",
       "      <td>1.387897e+08</td>\n",
       "      <td>2.540000</td>\n",
       "    </tr>\n",
       "    <tr>\n",
       "      <th>max</th>\n",
       "      <td>2022.000000</td>\n",
       "      <td>1.711864e+08</td>\n",
       "      <td>3.050000</td>\n",
       "    </tr>\n",
       "  </tbody>\n",
       "</table>\n",
       "</div>"
      ],
      "text/plain": [
       "        Date(Year)    Population  Annual % Change\n",
       "count    73.000000  7.300000e+01        72.000000\n",
       "mean   1986.000000  1.005421e+08         2.051667\n",
       "std      21.217131  4.133160e+07         0.649238\n",
       "min    1950.000000  3.972854e+07         0.880000\n",
       "25%    1968.000000  6.399565e+07         1.385000\n",
       "50%    1986.000000  9.827175e+07         2.150000\n",
       "75%    2004.000000  1.387897e+08         2.540000\n",
       "max    2022.000000  1.711864e+08         3.050000"
      ]
     },
     "execution_count": 12,
     "metadata": {},
     "output_type": "execute_result"
    }
   ],
   "source": [
    "df.describe()"
   ]
  }
 ],
 "metadata": {
  "kernelspec": {
   "display_name": "Python 3",
   "language": "python",
   "name": "python3"
  },
  "language_info": {
   "codemirror_mode": {
    "name": "ipython",
    "version": 3
   },
   "file_extension": ".py",
   "mimetype": "text/x-python",
   "name": "python",
   "nbconvert_exporter": "python",
   "pygments_lexer": "ipython3",
   "version": "3.13.2"
  }
 },
 "nbformat": 4,
 "nbformat_minor": 5
}
